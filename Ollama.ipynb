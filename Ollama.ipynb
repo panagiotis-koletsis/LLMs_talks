{
 "cells": [
  {
   "cell_type": "code",
   "execution_count": 2,
   "id": "initial_id",
   "metadata": {
    "collapsed": true,
    "ExecuteTime": {
     "end_time": "2024-04-12T09:53:11.134697Z",
     "start_time": "2024-04-12T09:53:11.017699100Z"
    }
   },
   "outputs": [],
   "source": [
    "import ollama"
   ]
  },
  {
   "cell_type": "code",
   "outputs": [
    {
     "data": {
      "text/plain": "{'status': 'success'}"
     },
     "execution_count": 3,
     "metadata": {},
     "output_type": "execute_result"
    }
   ],
   "source": [
    "ollama.pull('mistral')"
   ],
   "metadata": {
    "collapsed": false,
    "ExecuteTime": {
     "end_time": "2024-04-12T09:53:55.979889700Z",
     "start_time": "2024-04-12T09:53:42.122196200Z"
    }
   },
   "id": "46a946bcba3dc382",
   "execution_count": 3
  },
  {
   "cell_type": "code",
   "outputs": [],
   "source": [
    "ollama.show('mistral')"
   ],
   "metadata": {
    "collapsed": false
   },
   "id": "a455e783daeeb81d",
   "execution_count": null
  },
  {
   "cell_type": "code",
   "outputs": [],
   "source": [
    "stream = ollama.chat(\n",
    "    model='mistral',\n",
    "    messages=[{'role': 'user','content': 'Why is the sky blue?'}],\n",
    "    stream=True\n",
    ")"
   ],
   "metadata": {
    "collapsed": false,
    "ExecuteTime": {
     "end_time": "2024-04-12T10:44:16.037329500Z",
     "start_time": "2024-04-12T10:44:16.034329600Z"
    }
   },
   "id": "995c9a7553b46dd2",
   "execution_count": 5
  },
  {
   "cell_type": "code",
   "outputs": [
    {
     "name": "stdout",
     "output_type": "stream",
     "text": [
      " The color of the sky appears blue due to a process called scattering. In the Earth's atmosphere, there are gases and particles that scatter short-wavelength light, such as blue and violet light, more than other colors. When the Sun's rays reach the Earth's atmosphere, the shorter-wavelength light is scattered in all directions. The scattered blue and violet light reaches our eyes from every direction, making the sky appear blue to us during a clear day. However, you might notice that the sky sometimes appears other colors, such as red or orange during sunrise or sunset. This is because the Sun's rays pass through more of the atmosphere at these times, and the longer-wavelength light (red, orange, and yellow) gets scattered more, giving the sky those warm hues."
     ]
    }
   ],
   "source": [
    "for chunk in stream:\n",
    "    print(chunk['message']['content'], end='', flush=True)"
   ],
   "metadata": {
    "collapsed": false,
    "ExecuteTime": {
     "end_time": "2024-04-12T10:46:05.642914100Z",
     "start_time": "2024-04-12T10:45:15.545454Z"
    }
   },
   "id": "7cc682999aedac3b",
   "execution_count": 6
  },
  {
   "cell_type": "code",
   "outputs": [],
   "source": [],
   "metadata": {
    "collapsed": false
   },
   "id": "9857de17eaf6af5"
  }
 ],
 "metadata": {
  "kernelspec": {
   "display_name": "Python 3",
   "language": "python",
   "name": "python3"
  },
  "language_info": {
   "codemirror_mode": {
    "name": "ipython",
    "version": 2
   },
   "file_extension": ".py",
   "mimetype": "text/x-python",
   "name": "python",
   "nbconvert_exporter": "python",
   "pygments_lexer": "ipython2",
   "version": "2.7.6"
  }
 },
 "nbformat": 4,
 "nbformat_minor": 5
}
